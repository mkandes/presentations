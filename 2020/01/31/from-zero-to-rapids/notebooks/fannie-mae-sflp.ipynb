{
 "cells": [
  {
   "cell_type": "markdown",
   "metadata": {},
   "source": [
    "# [Fannie Mae Single-Family Loan Performance Data](https://www.fanniemae.com/portal/funding-the-market/data/loan-performance-data.html)"
   ]
  },
  {
   "cell_type": "markdown",
   "metadata": {},
   "source": [
    "## About the Dataset\n",
    "\n",
    "| Data Subset | Size of Compressed Dataset (GB) | Size of Uncompressed Dataset (GB) | Size of Acquistion Dataset (GB) | Size of Performance Dataset (GB) | Number of Loans (Millions) | Number of Performance Records (Billions) |\n",
    "| ------- | ----------------------------- | ---------------------------- | -------- | ----------| ---------------- | ---------------------------------------- |\n",
    "| mortgage_2000      | 0.45 | 3.9 | 0.137 | 3.7 | 1.21 | 0.036 |\n",
    "| mortgage_2000-2001 | 1.9 | 16 | 0.473 | 16 | 4.22 | 0.148 |\n",
    "| mortgage_2000-2003 | 9.3 | 78 | 1.5 | 76 | 13.5 | 0.743 |\n",
    "| mortgage_2000-2007 | 15 | 117 | 2.1 | 115 | 19.1 | 1.12 |\n",
    "| mortgage_2000-2015 | 23 | 192 | 3.8 | 188 | 34.7 | 1.85 |\n",
    "| mortgage_2000-2016 | 24 | 196 | 4.1 | 192 | 37.0 | 1.89 |"
   ]
  },
  {
   "cell_type": "markdown",
   "metadata": {},
   "source": [
    "## Import Python Modules"
   ]
  },
  {
   "cell_type": "code",
   "execution_count": null,
   "metadata": {},
   "outputs": [],
   "source": [
    "# Import all of the python modules from The Python Standard Library\n",
    "# required to run the notebook.\n",
    "\n",
    "import os\n",
    "import glob\n",
    "import collections"
   ]
  },
  {
   "cell_type": "code",
   "execution_count": null,
   "metadata": {},
   "outputs": [],
   "source": [
    "# Import all standard data science and machine learning python modules \n",
    "# required to run the notebook.\n",
    "\n",
    "import dask\n",
    "import dask.dataframe\n",
    "import dask.distributed\n",
    "#import matplotlib\n",
    "import numpy\n",
    "import pandas\n",
    "import sklearn"
   ]
  },
  {
   "cell_type": "code",
   "execution_count": null,
   "metadata": {},
   "outputs": [],
   "source": [
    "# Import NVIDIA's new RAPIDS python modules designed to perform \n",
    "# GPU-acclerated data science and machine learning tasks.\n",
    "\n",
    "import cudf\n",
    "import cuml"
   ]
  },
  {
   "cell_type": "markdown",
   "metadata": {},
   "source": [
    "## Configure Notebook"
   ]
  },
  {
   "cell_type": "code",
   "execution_count": null,
   "metadata": {},
   "outputs": [],
   "source": [
    "# Define system environment variables\n",
    "\n",
    "USER = os.environ['USER']"
   ]
  },
  {
   "cell_type": "code",
   "execution_count": null,
   "metadata": {},
   "outputs": [],
   "source": [
    "# Define a path to the top-level directory of a local or network\n",
    "# filesystem that is available and accessible to you on the system \n",
    "# where you are running the notebook.\n",
    "\n",
    "DATA_ROOT_DIR = os.path.join('/oasis/scratch/comet', USER, 'temp_project')"
   ]
  },
  {
   "cell_type": "code",
   "execution_count": null,
   "metadata": {},
   "outputs": [],
   "source": [
    "# Choose which version of the Fannie Mae Single-Family Loan \n",
    "# Performance (SFLP) dataset you wish to analyze.\n",
    "\n",
    "SFLP_DATASET = 'mortgage_2000-2016'"
   ]
  },
  {
   "cell_type": "code",
   "execution_count": null,
   "metadata": {},
   "outputs": [],
   "source": [
    "# Define a path to the directory of the filesystem where you want to \n",
    "# download the compressed SFLP dataset, extract it into its uncompressed\n",
    "# form, and store for your analysis.\n",
    "\n",
    "SFLP_DATASET_DIR = os.path.join(DATA_ROOT_DIR, \n",
    "                                'data/fannie-mae/single-family-loan-performance',\n",
    "                                SFLP_DATASET)"
   ]
  },
  {
   "cell_type": "code",
   "execution_count": null,
   "metadata": {},
   "outputs": [],
   "source": [
    "# Define the two paths to the subdirectories where the loan acquisition\n",
    "# and performance datasets will be and/or are stored.\n",
    "\n",
    "SFLP_ACQ_DATA_DIR = os.path.join(SFLP_DATASET_DIR, 'acq')\n",
    "SFLP_PERF_DATA_DIR = os.path.join(SFLP_DATASET_DIR, 'perf')"
   ]
  },
  {
   "cell_type": "markdown",
   "metadata": {},
   "source": [
    "## Download and Extract Dataset"
   ]
  },
  {
   "cell_type": "code",
   "execution_count": null,
   "metadata": {},
   "outputs": [],
   "source": [
    "# Download the compressed SFLP dataset and extract it into its \n",
    "# uncompressed form, if it's not already available on the system where\n",
    "# you're running the notebook.\n",
    "\n",
    "SFLP_DATA_ROOT_URL = 'http://rapidsai-data.s3-website.us-east-2.amazonaws.com/notebook-mortgage-data'\n",
    "if not os.path.exists(SFLP_DATASET_DIR):\n",
    "    os.makedirs(SFLP_DATASET_DIR)\n",
    "    os.chdir(SFLP_DATASET_DIR)\n",
    "    os.system('wget ' + SFLP_DATA_ROOT_URL + '/' + SFLP_DATASET + '.tgz')\n",
    "    os.system('tar -xf ' + SFLP_DATASET + '.tgz')\n",
    "    print('SFLP dataset downloaded and extracted.')\n",
    "else:\n",
    "    print('SFLP dataset directory already exists. Check if dataset is already available.')"
   ]
  },
  {
   "cell_type": "code",
   "execution_count": null,
   "metadata": {},
   "outputs": [],
   "source": [
    "# Check the contents of SFLP dataset directory.\n",
    "\n",
    "print(os.listdir(SFLP_DATASET_DIR))"
   ]
  },
  {
   "cell_type": "markdown",
   "metadata": {},
   "source": [
    "## Dataset Preparation and Loading"
   ]
  },
  {
   "cell_type": "markdown",
   "metadata": {},
   "source": [
    "### Set Analysis Interval"
   ]
  },
  {
   "cell_type": "code",
   "execution_count": null,
   "metadata": {},
   "outputs": [],
   "source": [
    "# Select the first year and quarter to begin your analysis as well as\n",
    "# the last year and quarter to end your analysis.\n",
    "\n",
    "sflp_begin_year = 2000\n",
    "sflp_begin_quarter = 1\n",
    "\n",
    "sflp_end_year = 2016\n",
    "sflp_end_quarter = 4"
   ]
  },
  {
   "cell_type": "code",
   "execution_count": null,
   "metadata": {},
   "outputs": [],
   "source": [
    "# Create two lists of all the quarterly loan acquisition and performance\n",
    "# data files from the SFLP dataset that are contained within the time \n",
    "# interval defined above.\n",
    "\n",
    "sflp_acq_files = list()\n",
    "sflp_perf_files = list()\n",
    "\n",
    "for sflp_year in list(range(sflp_begin_year, sflp_end_year+1)):\n",
    "    \n",
    "    # Determine the number of quarters in each year to analyze\n",
    "    if (sflp_year == sflp_begin_year):\n",
    "        sflp_quarters = list(range(sflp_begin_quarter, 5))\n",
    "    elif (sflp_year == sflp_end_year):\n",
    "        sflp_quarters = list(range(1, sflp_end_quarter+1))\n",
    "    else:\n",
    "        sflp_quarters = list(range(1, 5))\n",
    "        \n",
    "    # Get absolute path for each quarterly loan acquisition and \n",
    "    # performance data file\n",
    "    for sflp_quarter in sflp_quarters:\n",
    "        sflp_acq_files.extend(\n",
    "            glob.glob(\n",
    "                os.path.abspath(\n",
    "                    os.path.join(SFLP_ACQ_DATA_DIR, 'Acquisition_' + \n",
    "                                 str(sflp_year) + 'Q' + \n",
    "                                 str(sflp_quarter) + '.*'))))\n",
    "        sflp_perf_files.extend(\n",
    "            glob.glob(\n",
    "                os.path.abspath(\n",
    "                    os.path.join(SFLP_PERF_DATA_DIR, 'Performance_' + \n",
    "                                 str(sflp_year) + 'Q' + \n",
    "                                 str(sflp_quarter) + '.*'))))"
   ]
  },
  {
   "cell_type": "markdown",
   "metadata": {},
   "source": [
    "### Acquisition Data"
   ]
  },
  {
   "cell_type": "code",
   "execution_count": null,
   "metadata": {},
   "outputs": [],
   "source": [
    "# List all of the files from the loan acquisition dataset to be analyzed\n",
    "# as well as the size of each file in bytes.\n",
    "\n",
    "for sflp_acq_file in sflp_acq_files:\n",
    "    print(os.path.basename(sflp_acq_file), os.stat(sflp_acq_file).st_size)"
   ]
  },
  {
   "cell_type": "code",
   "execution_count": null,
   "metadata": {},
   "outputs": [],
   "source": [
    "# Print the first few lines from the first loan acquisition data file.\n",
    "\n",
    "number_of_lines = 5\n",
    "with open(sflp_acq_files[0], 'r') as sflp_acq_file:\n",
    "    for x in range(number_of_lines):\n",
    "        print(sflp_acq_file.readline())"
   ]
  },
  {
   "cell_type": "code",
   "execution_count": null,
   "metadata": {},
   "outputs": [],
   "source": [
    "# Define an ordered dictionary of column datatypes for the SFLP loan \n",
    "# acquisition dataset.\n",
    "\n",
    "sflp_acq_columns = collections.OrderedDict()\n",
    "sflp_acq_columns['loan_identifier'] = 'Int64'\n",
    "sflp_acq_columns['origination_channel'] = 'category'\n",
    "sflp_acq_columns['seller_name'] = 'category'\n",
    "sflp_acq_columns['original_interest_rate'] = 'float64'\n",
    "sflp_acq_columns['original_unpaid_principal_balance'] = 'Int64'\n",
    "sflp_acq_columns['original_loan_term'] = 'Int64'\n",
    "sflp_acq_columns['origination_date'] = 'object'\n",
    "sflp_acq_columns['first_payment_date'] ='object'\n",
    "sflp_acq_columns['original_loan_to_value'] = 'float64'\n",
    "sflp_acq_columns['original_combined_loan_to_value'] = 'float64'\n",
    "sflp_acq_columns['number_of_borrowers'] = 'Int64'\n",
    "sflp_acq_columns['original_debt_to_income_ratio'] = 'float64'\n",
    "sflp_acq_columns['borrower_credit_score_at_origination'] = 'Int64'\n",
    "sflp_acq_columns['first_time_home_buyer_indicator'] = 'category'\n",
    "sflp_acq_columns['loan_purpose'] = 'category'\n",
    "sflp_acq_columns['property_type'] = 'category'\n",
    "sflp_acq_columns['number_of_units'] = 'Int64'\n",
    "sflp_acq_columns['occupancy_type'] = 'category'\n",
    "sflp_acq_columns['property_state'] = 'category'\n",
    "sflp_acq_columns['zip_code_short'] = 'Int64'\n",
    "sflp_acq_columns['primary_mortgage_insurance_percent'] = 'float64'\n",
    "sflp_acq_columns['product_type'] = 'category'\n",
    "sflp_acq_columns['co-borrower_credit_score_at_origination'] = 'Int64'\n",
    "sflp_acq_columns['mortgage_insurance_type'] = 'Int64'\n",
    "sflp_acq_columns['relocation_mortgage_indicator'] = 'category'\n",
    "sflp_acq_columns['year_quarter'] = 'Int64'"
   ]
  },
  {
   "cell_type": "code",
   "execution_count": null,
   "metadata": {},
   "outputs": [],
   "source": [
    "%%time\n",
    "# Dask\n",
    "# \n",
    "# Read in all of the loan acquisition data into a Pandas DataFrame \n",
    "# (sflp_acq_pdf) via the distributed dask.dataframe.read_csv method.\n",
    "\n",
    "dask_client = dask.distributed.Client(n_workers=32, threads_per_worker=2)\n",
    "sflp_acq_ddf = dask.dataframe.read_csv(sflp_acq_files, \n",
    "                                       names=[*sflp_acq_columns.keys()], \n",
    "                                       delimiter='|', \n",
    "                                       dtype=sflp_acq_columns)\n",
    "sflp_acq_ddf = dask_client.persist(sflp_acq_ddf)\n",
    "sflp_acq_pdf = sflp_acq_ddf.compute()\n",
    "dask_client.close()"
   ]
  },
  {
   "cell_type": "code",
   "execution_count": null,
   "metadata": {},
   "outputs": [],
   "source": [
    "# Pandas\n",
    "#\n",
    "# Check datatypes of the loan acquisition Pandas DataFrame (sflp_acq_pdf).\n",
    "\n",
    "sflp_acq_pdf.dtypes"
   ]
  },
  {
   "cell_type": "code",
   "execution_count": null,
   "metadata": {},
   "outputs": [],
   "source": [
    "# Pandas\n",
    "#\n",
    "# Convert the date-related object datatypes in the loan acquisition\n",
    "# Pandas DataFrame (sflp_acq_pdf) to datetime datatypes.\n",
    "\n",
    "sflp_acq_pdf['origination_date'] = pandas.to_datetime(\n",
    "    sflp_acq_pdf['origination_date'], format='%m/%Y')\n",
    "sflp_acq_pdf['first_payment_date'] = pandas.to_datetime(\n",
    "    sflp_acq_pdf['first_payment_date'], format='%m/%Y')"
   ]
  },
  {
   "cell_type": "code",
   "execution_count": null,
   "metadata": {},
   "outputs": [],
   "source": [
    "# Pandas\n",
    "#\n",
    "# Re-check the datatypes of the loan acquisition Pandas DataFrame\n",
    "# (sflp_acq_pdf) after completion of the object-to-datetime conversion. \n",
    "\n",
    "sflp_acq_pdf.dtypes"
   ]
  },
  {
   "cell_type": "code",
   "execution_count": null,
   "metadata": {},
   "outputs": [],
   "source": [
    "%%time \n",
    "# cuDF\n",
    "#\n",
    "# Create a copy of the loan acquisition Pandas DataFrame (sflp_acq_pdf)\n",
    "# in the memory of a single NVIDIA GPU by creating a cuDF DataFrame\n",
    "# (sflp_acq_cudf) from the Pandas DataFrame.\n",
    "\n",
    "sflp_acq_cudf = cudf.DataFrame.from_pandas(sflp_acq_pdf)"
   ]
  },
  {
   "cell_type": "code",
   "execution_count": null,
   "metadata": {},
   "outputs": [],
   "source": [
    "# cuDF\n",
    "#\n",
    "# Check that the datatypes of the loan acquisition cuDF DataFrame \n",
    "# (sflp_acq_cudf) are in fact the same datatypes as those of the Pandas\n",
    "# DataFrame (sflp_acq_pdf).\n",
    "\n",
    "sflp_acq_cudf.dtypes"
   ]
  },
  {
   "cell_type": "code",
   "execution_count": null,
   "metadata": {},
   "outputs": [],
   "source": [
    "# Pandas\n",
    "#\n",
    "# Inspect the first few rows of the loan acquisition Pandas DataFrame\n",
    "# (sflp_acq_pdf).\n",
    "\n",
    "sflp_acq_pdf.head()"
   ]
  },
  {
   "cell_type": "code",
   "execution_count": null,
   "metadata": {},
   "outputs": [],
   "source": [
    "# cuDF\n",
    "#\n",
    "# Compare the first few rows of the loan acquisition cuDF DataFrame\n",
    "# (sflp_acq_cudf) against those of the Pandas DataFrame (sflp_acq_pdf).\n",
    "\n",
    "sflp_acq_cudf.head()"
   ]
  },
  {
   "cell_type": "markdown",
   "metadata": {},
   "source": [
    "### Performance Data"
   ]
  },
  {
   "cell_type": "raw",
   "metadata": {},
   "source": [
    "Coming Soon. Requires multi-node, multi-GPU dask_cuda setup."
   ]
  },
  {
   "cell_type": "markdown",
   "metadata": {},
   "source": [
    "## Data Exploration and Manipulation"
   ]
  },
  {
   "cell_type": "markdown",
   "metadata": {},
   "source": [
    "### Filtering and Querying Data"
   ]
  },
  {
   "cell_type": "code",
   "execution_count": null,
   "metadata": {},
   "outputs": [],
   "source": [
    "%%time\n",
    "# Pandas\n",
    "#\n",
    "# How many loans were made for more than $400,000?\n",
    "\n",
    "len(sflp_acq_pdf.query('original_unpaid_principal_balance > 400000'))"
   ]
  },
  {
   "cell_type": "code",
   "execution_count": null,
   "metadata": {},
   "outputs": [],
   "source": [
    "%%time\n",
    "# cuDF\n",
    "#\n",
    "# How many loans were made for more than $400,000?\n",
    "\n",
    "len(sflp_acq_cudf.query('original_unpaid_principal_balance > 400000'))"
   ]
  },
  {
   "cell_type": "code",
   "execution_count": null,
   "metadata": {},
   "outputs": [],
   "source": [
    "%%time\n",
    "# Pandas\n",
    "#\n",
    "# How many loans were made in California for more than $400,000?\n",
    "\n",
    "len(sflp_acq_pdf.query('property_state == \"CA\" and \\\n",
    "                        original_unpaid_principal_balance > 400000'))"
   ]
  },
  {
   "cell_type": "code",
   "execution_count": null,
   "metadata": {},
   "outputs": [],
   "source": [
    "%%time\n",
    "# cuDF (FAIL)\n",
    "#\n",
    "# How many loans were made in California for more than $400,000?\n",
    "\n",
    "len(sflp_acq_cudf.query('property_state == \"CA\" and \\\n",
    "                        original_unpaid_principal_balance > 400000'))"
   ]
  },
  {
   "cell_type": "code",
   "execution_count": null,
   "metadata": {},
   "outputs": [],
   "source": [
    "# cuDF\n",
    "#\n",
    "# Check the list of categories in the property_state column. Find CA.\n",
    "\n",
    "sflp_acq_cudf.property_state.cat.categories"
   ]
  },
  {
   "cell_type": "code",
   "execution_count": null,
   "metadata": {},
   "outputs": [],
   "source": [
    "%%time \n",
    "# cuDF\n",
    "#\n",
    "# It appears that cuDF still does not support literal string comparisons\n",
    "# in the cudf.DataFrame.query() method. e.g., instead, you must use the\n",
    "# numerical index one of the categories in a category datatype. \n",
    "#\n",
    "# How many loans were made in California (4) for more than $400,000?\n",
    "\n",
    "len(sflp_acq_cudf.query('property_state == 4 and \\\n",
    "                         original_unpaid_principal_balance > 400000'))"
   ]
  },
  {
   "cell_type": "code",
   "execution_count": null,
   "metadata": {},
   "outputs": [],
   "source": [
    "%%time \n",
    "# Pandas\n",
    "# \n",
    "# How many loans were made in either California, New York, or Florida\n",
    "# for more than $400,000 to principal borrowers who had a credit score\n",
    "# of less than 650?\n",
    "\n",
    "len(sflp_acq_pdf.query('(property_state == \"CA\" or \\\n",
    "                         property_state == \"NY\" or \\\n",
    "                         property_state ==\"FL\") and \\\n",
    "                         original_unpaid_principal_balance > 400000 and \\\n",
    "                         borrower_credit_score_at_origination < 650'))"
   ]
  },
  {
   "cell_type": "code",
   "execution_count": null,
   "metadata": {},
   "outputs": [],
   "source": [
    "%%time\n",
    "# cuDF\n",
    "# \n",
    "# How many loans were made in either California (4), New York (34), or \n",
    "# Florida (9) for more than $400,000 to principal borrowers who had a \n",
    "# credit score of less than 650?\n",
    "\n",
    "len(sflp_acq_cudf.query('(property_state == 4 or \\\n",
    "                          property_state == 34 or \\\n",
    "                          property_state == 9) and \\\n",
    "                          original_unpaid_principal_balance > 400000 and \\\n",
    "                          borrower_credit_score_at_origination < 650'))"
   ]
  },
  {
   "cell_type": "markdown",
   "metadata": {},
   "source": [
    "### Grouping Data"
   ]
  },
  {
   "cell_type": "code",
   "execution_count": null,
   "metadata": {},
   "outputs": [],
   "source": [
    "%%time\n",
    "# Pandas   .count(Int64)\n",
    "#\n",
    "# What was the total number of loans originated per month? \n",
    "\n",
    "total_number_of_loans_originated_per_month_pdf = sflp_acq_pdf.groupby(\n",
    "    'origination_date')['loan_identifier'].count().to_frame()"
   ]
  },
  {
   "cell_type": "code",
   "execution_count": null,
   "metadata": {},
   "outputs": [],
   "source": [
    "%%time\n",
    "# cuDF    .count(int64)\n",
    "#\n",
    "# What was the total number of loans originated per month?\n",
    "# .count(Int64)\n",
    "\n",
    "total_number_of_loans_originated_per_month_cudf = sflp_acq_cudf.groupby(\n",
    "    'origination_date')['loan_identifier'].count().to_frame()"
   ]
  },
  {
   "cell_type": "code",
   "execution_count": null,
   "metadata": {},
   "outputs": [],
   "source": [
    "%%time\n",
    "# Pandas   .sum(Int64)\n",
    "# \n",
    "# What was the total unpaid principal balance originated per month (in\n",
    "# billions of dollars)?\n",
    "\n",
    "total_unpaid_principal_balance_originated_per_month_pdf = sflp_acq_pdf.groupby(\n",
    "    'origination_date')['original_unpaid_principal_balance'].sum().to_frame().div(1000000000)"
   ]
  },
  {
   "cell_type": "code",
   "execution_count": null,
   "metadata": {},
   "outputs": [],
   "source": [
    "%%time\n",
    "# cuDF    .sum(int64)   (FAIL)\n",
    "# \n",
    "# What was the total unpaid principal balance originated per month (in\n",
    "# billions of dollars)?\n",
    "\n",
    "total_unpaid_principal_balances_originated_per_month_cudf  = sflp_acq_cudf.groupby(\n",
    "    'origination_date')['original_unpaid_principal_balance'].sum().to_frame().div(1000000000)"
   ]
  },
  {
   "cell_type": "code",
   "execution_count": null,
   "metadata": {},
   "outputs": [],
   "source": [
    "%%time\n",
    "# Pandas   .sum(Int64)\n",
    "# \n",
    "# What was the total unpaid principal balance originated per month?\n",
    "\n",
    "total_unpaid_principal_balance_originated_per_month_pdf = sflp_acq_pdf.groupby(\n",
    "    'origination_date')['original_unpaid_principal_balance'].sum().to_frame()"
   ]
  },
  {
   "cell_type": "code",
   "execution_count": null,
   "metadata": {},
   "outputs": [],
   "source": [
    "%%time\n",
    "# cuDF    .sum(int64)\n",
    "# \n",
    "# What was the total unpaid principal balance originated per month?\n",
    "\n",
    "total_unpaid_principal_balance_originated_per_month_cudf = sflp_acq_cudf.groupby(\n",
    "    'origination_date')['original_unpaid_principal_balance'].sum().to_frame()"
   ]
  },
  {
   "cell_type": "code",
   "execution_count": null,
   "metadata": {},
   "outputs": [],
   "source": [
    "%%time\n",
    "# Pandas   .mean(Int64)\n",
    "# \n",
    "# What was the average unpaid principal balance at originiation by month?\n",
    "\n",
    "average_unpaid_principal_balance_at_origination_by_month_pdf = sflp_acq_pdf.groupby(\n",
    "    'origination_date')['original_unpaid_principal_balance'].mean().to_frame()"
   ]
  },
  {
   "cell_type": "code",
   "execution_count": null,
   "metadata": {},
   "outputs": [],
   "source": [
    "%%time\n",
    "# cuDF    .mean(int64)    \n",
    "# \n",
    "# What was the average unpaid principal balance at originiation by month?\n",
    "\n",
    "average_unpaid_principal_balance_at_origination_by_month_cudf = sflp_acq_cudf.groupby(\n",
    "    'origination_date')['original_unpaid_principal_balance'].mean().to_frame()"
   ]
  },
  {
   "cell_type": "code",
   "execution_count": null,
   "metadata": {},
   "outputs": [],
   "source": [
    "%%time\n",
    "# Pandas   .mean(float64)\n",
    "#\n",
    "# What was the average loan to value ratio at originiation by month?\n",
    "\n",
    "average_loan_to_value_at_origination_by_month_pdf  = sflp_acq_pdf.groupby(\n",
    "    'origination_date')['original_loan_to_value'].mean().to_frame()"
   ]
  },
  {
   "cell_type": "code",
   "execution_count": null,
   "metadata": {},
   "outputs": [],
   "source": [
    "%%time\n",
    "# cuDF    .mean(float64)\n",
    "#\n",
    "# What was the average loan to value ratio at originiation by month?\n",
    "\n",
    "average_loan_to_value_at_origination_by_month_cudf  = sflp_acq_cudf.groupby(\n",
    "    'origination_date')['original_loan_to_value'].mean().to_frame()"
   ]
  },
  {
   "cell_type": "code",
   "execution_count": null,
   "metadata": {},
   "outputs": [],
   "source": [
    "%time\n",
    "# Pandas\n",
    "#\n",
    "# What was the average credit score of a borrower at originiation?\n",
    "\n",
    "average_credit_score_at_origination_by_month_pdf = sflp_acq_pdf.groupby(\n",
    "    'origination_date')['borrower_credit_score_at_origination'].mean().to_frame()"
   ]
  },
  {
   "cell_type": "code",
   "execution_count": null,
   "metadata": {},
   "outputs": [],
   "source": [
    "%time\n",
    "# cuDF\n",
    "#\n",
    "# What was the average credit score of a borrower at originiation?\n",
    "\n",
    "average_credit_score_at_origination_by_month_cudf = sflp_acq_cudf.groupby(\n",
    "    'origination_date')['borrower_credit_score_at_origination'].mean().to_frame()"
   ]
  },
  {
   "cell_type": "code",
   "execution_count": null,
   "metadata": {},
   "outputs": [],
   "source": [
    "%%time\n",
    "# Pandas\n",
    "#\n",
    "# What was the average debt-to-income ratio of a borrower at origination?\n",
    "\n",
    "average_debt_to_income_at_origination_by_month_pdf  = sflp_acq_pdf.groupby(\n",
    "    'origination_date')['original_debt_to_income_ratio'].mean().to_frame()"
   ]
  },
  {
   "cell_type": "code",
   "execution_count": null,
   "metadata": {},
   "outputs": [],
   "source": [
    "%%time\n",
    "# cuDF\n",
    "#\n",
    "# What was the average debt-to-income ratio of a borrower at origination?\n",
    "\n",
    "average_debt_to_income_at_origination_by_month_cudf  = sflp_acq_cudf.groupby(\n",
    "    'origination_date')['original_debt_to_income_ratio'].mean().to_frame()"
   ]
  },
  {
   "cell_type": "code",
   "execution_count": null,
   "metadata": {},
   "outputs": [],
   "source": [
    "%%time\n",
    "# Pandas\n",
    "# \n",
    "# What was the average interest rate on a loan at origination?\n",
    "\n",
    "average_interest_rate_at_origination_by_month_pdf = sflp_acq_pdf.groupby(\n",
    "    'origination_date')['original_interest_rate'].mean().to_frame()"
   ]
  },
  {
   "cell_type": "code",
   "execution_count": null,
   "metadata": {},
   "outputs": [],
   "source": [
    "%%time\n",
    "# cuDF\n",
    "# \n",
    "# What was the average interest rate on a loan at origination?\n",
    "\n",
    "average_interest_rate_at_origination_by_month_cudf = sflp_acq_cudf.groupby(\n",
    "    'origination_date')['original_interest_rate'].mean().to_frame()"
   ]
  },
  {
   "cell_type": "markdown",
   "metadata": {},
   "source": [
    "### Concatenating Data"
   ]
  },
  {
   "cell_type": "code",
   "execution_count": null,
   "metadata": {},
   "outputs": [],
   "source": [
    "%%time\n",
    "# Pandas\n",
    "#\n",
    "# Combine the monthly summary statistics series created above into a\n",
    "# single pandas DataFrame.\n",
    "\n",
    "sflp_acq_monthly_summary_pdf = pandas.concat([total_number_of_loans_originated_per_month_pdf, \n",
    "                                      total_unpaid_principal_balance_originated_per_month_pdf, \n",
    "                                      average_unpaid_principal_balance_at_origination_by_month_pdf, \n",
    "                                      average_loan_to_value_at_origination_by_month_pdf, \n",
    "                                      average_credit_score_at_origination_by_month_pdf, \n",
    "                                      average_debt_to_income_at_origination_by_month_pdf, \n",
    "                                      average_interest_rate_at_origination_by_month_pdf], axis=1)"
   ]
  },
  {
   "cell_type": "code",
   "execution_count": null,
   "metadata": {},
   "outputs": [],
   "source": [
    "%%time\n",
    "# cuDF\n",
    "#\n",
    "# Combine the monthly summary statistics series created above into a\n",
    "# single pandas DataFrame.\n",
    "\n",
    "sflp_acq_monthly_summary_cudf = cudf.concat([total_number_of_loans_originated_per_month_cudf, \n",
    "                                      total_unpaid_principal_balance_originated_per_month_cudf, \n",
    "                                      average_unpaid_principal_balance_at_origination_by_month_cudf, \n",
    "                                      average_loan_to_value_at_origination_by_month_cudf, \n",
    "                                      average_credit_score_at_origination_by_month_cudf, \n",
    "                                      average_debt_to_income_at_origination_by_month_cudf, \n",
    "                                      average_interest_rate_at_origination_by_month_cudf], axis=1)"
   ]
  },
  {
   "cell_type": "markdown",
   "metadata": {},
   "source": [
    "## Cluster Analysis and Classification"
   ]
  },
  {
   "cell_type": "raw",
   "metadata": {},
   "source": [
    "Comming Soon. Requires cuML. "
   ]
  }
 ],
 "metadata": {
  "kernelspec": {
   "display_name": "Python 3",
   "language": "python",
   "name": "python3"
  },
  "language_info": {
   "codemirror_mode": {
    "name": "ipython",
    "version": 3
   },
   "file_extension": ".py",
   "mimetype": "text/x-python",
   "name": "python",
   "nbconvert_exporter": "python",
   "pygments_lexer": "ipython3",
   "version": "3.7.3"
  }
 },
 "nbformat": 4,
 "nbformat_minor": 4
}
